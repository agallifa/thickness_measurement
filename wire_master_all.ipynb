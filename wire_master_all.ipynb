{
 "cells": [
  {
   "cell_type": "code",
   "execution_count": 1,
   "id": "319dc7b9-fd72-4037-afbe-20cfb073f89f",
   "metadata": {},
   "outputs": [],
   "source": [
    "import matplotlib.image as img"
   ]
  },
  {
   "cell_type": "code",
   "execution_count": 2,
   "id": "858adb23-12cd-4eb8-af04-a98f6c9d70b8",
   "metadata": {},
   "outputs": [],
   "source": [
    "import pandas as pd"
   ]
  },
  {
   "cell_type": "code",
   "execution_count": 3,
   "id": "09c2bfa2-6ed2-4a65-9e7d-7b344ea8f5dd",
   "metadata": {},
   "outputs": [],
   "source": [
    "import os"
   ]
  },
  {
   "cell_type": "code",
   "execution_count": 4,
   "id": "6b0d7c52-44d6-4761-bbdc-8cfcd093eeab",
   "metadata": {},
   "outputs": [],
   "source": [
    "directory = r'E:\\trials python\\binarised_images'"
   ]
  },
  {
   "cell_type": "code",
   "execution_count": 5,
   "id": "e1b83687-10e2-4a3c-8d3a-0caab65582ab",
   "metadata": {},
   "outputs": [],
   "source": [
    "files = os.listdir(directory)"
   ]
  },
  {
   "cell_type": "code",
   "execution_count": 6,
   "id": "e9b43526-c92a-4b19-ae20-d22babf98c5a",
   "metadata": {},
   "outputs": [],
   "source": [
    "writer = pd.ExcelWriter('RESULTS.xlsx', engine='xlsxwriter')"
   ]
  },
  {
   "cell_type": "code",
   "execution_count": 7,
   "id": "23827bbe-ae6c-4819-89dc-0a9882e77571",
   "metadata": {},
   "outputs": [],
   "source": [
    "writer2 = pd.ExcelWriter('SUMMARY.xlsx', engine='xlsxwriter')"
   ]
  },
  {
   "cell_type": "code",
   "execution_count": 8,
   "id": "5778c889-422d-4d7e-910d-ada1bcf914c7",
   "metadata": {},
   "outputs": [],
   "source": [
    "scale=0.9225 #enter scale in px/micron"
   ]
  },
  {
   "cell_type": "code",
   "execution_count": 9,
   "id": "967d02db-76dc-49bb-8c88-39050fbd6d7e",
   "metadata": {},
   "outputs": [],
   "source": [
    "stats=pd.DataFrame()"
   ]
  },
  {
   "cell_type": "code",
   "execution_count": 10,
   "id": "cc3a1d32-64aa-4497-bdc6-19aeabfa112e",
   "metadata": {},
   "outputs": [],
   "source": [
    "for file in files:\n",
    "    image = img.imread(directory+\"\\\\\"+file)\n",
    "    df = pd.DataFrame(image)\n",
    "    df_1=df.replace(255,1)\n",
    "    \n",
    "    df_1_sum=df_1.sum(axis=0)\n",
    "    df_1_sum_micron=df_1.sum(axis=0)/scale\n",
    "    \n",
    "    stats_px=df_1_sum.describe()\n",
    "    stats_micron=df_1_sum_micron.describe()\n",
    "    \n",
    "    results_px=df_1_sum.append(stats_px)\n",
    "    results_micron=df_1_sum_micron.append(stats_micron)\n",
    "    \n",
    "    results = pd.concat([ results_px,  results_micron], axis=1)\n",
    "    results=results.set_axis(['thick_in_pixels','thick_in_microns'], axis='columns')\n",
    "    stats = pd.concat([ stats,  stats_micron], axis=1)\n",
    "    \n",
    "    #writer = pd.ExcelWriter(file+'.xlsx', engine='xlsxwriter')\n",
    "    #make sure that you input the right data: XXX.to_excel(writer, sheet_name='Sheet1')\n",
    "    results.to_excel(writer, sheet_name=file)"
   ]
  },
  {
   "cell_type": "code",
   "execution_count": 11,
   "id": "0c6f844d-4540-40b8-9766-585c9a3a3384",
   "metadata": {},
   "outputs": [],
   "source": [
    "writer.save()"
   ]
  },
  {
   "cell_type": "code",
   "execution_count": 12,
   "id": "180e24a9-a14b-4025-a349-a61ee2fa64b4",
   "metadata": {},
   "outputs": [],
   "source": [
    "stats=stats.set_axis(range(1,len(files)+1), axis='columns')\n",
    "stats.to_excel(writer2, sheet_name=\"thickness in micron\")\n",
    "writer2.save()"
   ]
  },
  {
   "cell_type": "code",
   "execution_count": 13,
   "id": "eb93c1cb-55c7-40f4-8c54-163a29aa202c",
   "metadata": {},
   "outputs": [],
   "source": [
    "#directories:\n",
    "#\\\\cern.ch\\dfs\\Users\\q\\Q600\\Desktop\\trials python\\images_final_trials\n",
    "#C:\\LOCAL\\trials python\\images_final_trials\n",
    "#\\\\cern.ch\\dfs\\Users\\q\\Q600\\Desktop\\binarised_images\n",
    "#E:\\trials python\\binarised_images"
   ]
  },
  {
   "cell_type": "code",
   "execution_count": null,
   "id": "7e5ecb7d-711a-46e5-a2a4-383f96ba348d",
   "metadata": {},
   "outputs": [],
   "source": []
  }
 ],
 "metadata": {
  "kernelspec": {
   "display_name": "Python 3",
   "language": "python",
   "name": "python3"
  },
  "language_info": {
   "codemirror_mode": {
    "name": "ipython",
    "version": 3
   },
   "file_extension": ".py",
   "mimetype": "text/x-python",
   "name": "python",
   "nbconvert_exporter": "python",
   "pygments_lexer": "ipython3",
   "version": "3.8.8"
  }
 },
 "nbformat": 4,
 "nbformat_minor": 5
}
